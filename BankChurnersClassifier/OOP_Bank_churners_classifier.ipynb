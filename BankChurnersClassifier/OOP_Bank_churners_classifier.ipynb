{
 "cells": [
  {
   "cell_type": "markdown",
   "id": "19bf4ae8",
   "metadata": {},
   "source": [
    "Imports"
   ]
  },
  {
   "cell_type": "code",
   "execution_count": 1,
   "id": "ce1284a4",
   "metadata": {},
   "outputs": [],
   "source": [
    "import findspark\n",
    "findspark.init()\n",
    "#necessario per me"
   ]
  },
  {
   "cell_type": "code",
   "execution_count": null,
   "id": "83f0dcef",
   "metadata": {},
   "outputs": [],
   "source": [
    "#if necessary:\n",
    "#pip install category_encoders"
   ]
  },
  {
   "cell_type": "code",
   "execution_count": 2,
   "id": "ed55c9c1",
   "metadata": {
    "scrolled": true
   },
   "outputs": [],
   "source": [
    "import pyspark\n",
    "import os\n",
    "\n",
    "from pyspark.sql import SparkSession\n",
    "from pyspark.sql.types import StructType\n",
    "from pyspark.sql import functions as F\n",
    "from pyspark.sql.functions import col, isnan, when, count, array\n",
    "\n",
    "import pandas as pd\n",
    "import numpy as np\n",
    "import scipy.stats as stats\n",
    "import matplotlib.pyplot as plt\n",
    "\n",
    "from pyspark.ml.feature import StringIndexer, OneHotEncoder, VectorAssembler, MinMaxScaler\n",
    "from pyspark.ml.linalg import Vectors \n",
    "from pyspark.ml.classification import RandomForestClassifier, LinearSVC, LogisticRegression, NaiveBayes\n",
    "from pyspark.ml.evaluation import BinaryClassificationEvaluator, ClusteringEvaluator\n",
    "from pyspark.ml.clustering import KMeans\n",
    "\n",
    "import category_encoders as ce\n",
    "from sklearn.metrics import confusion_matrix, recall_score, precision_score, roc_auc_score"
   ]
  },
  {
   "cell_type": "markdown",
   "id": "5fda59fb",
   "metadata": {},
   "source": [
    "SparkSession creation"
   ]
  },
  {
   "cell_type": "code",
   "execution_count": 3,
   "id": "bab44a97",
   "metadata": {},
   "outputs": [
    {
     "data": {
      "text/html": [
       "\n",
       "        <div>\n",
       "            <p><b>SparkContext</b></p>\n",
       "\n",
       "            <p><a href=\"http://Androz.homenet.telecomitalia.it:4040\">Spark UI</a></p>\n",
       "\n",
       "            <dl>\n",
       "              <dt>Version</dt>\n",
       "                <dd><code>v3.2.1</code></dd>\n",
       "              <dt>Master</dt>\n",
       "                <dd><code>local[*]</code></dd>\n",
       "              <dt>AppName</dt>\n",
       "                <dd><code>bank churners classification</code></dd>\n",
       "            </dl>\n",
       "        </div>\n",
       "        "
      ],
      "text/plain": [
       "<SparkContext master=local[*] appName=bank churners classification>"
      ]
     },
     "execution_count": 3,
     "metadata": {},
     "output_type": "execute_result"
    }
   ],
   "source": [
    "spark = SparkSession.builder.appName(\"bank churners classification\").getOrCreate()\n",
    "\n",
    "sc = spark.sparkContext\n",
    "sc"
   ]
  },
  {
   "cell_type": "markdown",
   "id": "4486699d",
   "metadata": {},
   "source": [
    "CLASSES & FUNCTIONS"
   ]
  },
  {
   "cell_type": "code",
   "execution_count": 4,
   "id": "9b657a6c",
   "metadata": {},
   "outputs": [],
   "source": [
    "class Loader(object):\n",
    "    def __init__(self, datapath=''):\n",
    "        self.datapath = datapath\n",
    "        self.ds_name = None\n",
    "        self.df = None\n",
    "    \n",
    "    def __lshift__(self, name):\n",
    "        self.ds_name = name\n",
    "        self.df = spark.read.csv(os.path.join(self.datapath,self.ds_name), header=True, inferSchema=True)\n",
    "        return self.df"
   ]
  },
  {
   "cell_type": "code",
   "execution_count": 5,
   "id": "99c7dafb",
   "metadata": {},
   "outputs": [],
   "source": [
    "def ordinal_encode(dataframe):\n",
    "    ordinal_encoder = ce.OrdinalEncoder(cols=['Income_Category','Card_Category','Education_Level','Attrition_Flag'], return_df=True,\n",
    "    mapping=[{'col':'Income_Category',\n",
    "    'mapping':{\n",
    "    'Unknown'        : 0.0,\n",
    "    'Less than $40K' : 1.0,\n",
    "    '$40K - $60K'    : 2.0,\n",
    "    '$60K - $80K'    : 3.0,\n",
    "    '$80K - $120K'   : 4.0,\n",
    "    '$120K +'        : 5.0}},\n",
    "\n",
    "    {'col':'Card_Category',\n",
    "    'mapping':{\n",
    "    'Blue'     : 0.0,\n",
    "    'Silver'   : 1.0,\n",
    "    'Gold'     : 2.0,\n",
    "    'Platinum' : 3.0}},\n",
    "\n",
    "    {'col':'Education_Level',\n",
    "    'mapping':{\n",
    "    'Unknown'       : 0.0,\n",
    "    'Uneducated'    : 1.0,\n",
    "    'High School'   : 2.0,\n",
    "    'College'       : 3.0,\n",
    "    'Graduate'      : 4.0,\n",
    "    'Post-Graduate' : 5.0,\n",
    "    'Doctorate'     : 6.0}},\n",
    "\n",
    "    {'col':'Attrition_Flag',\n",
    "    'mapping':{\n",
    "    'Existing Customer' : 0.0,\n",
    "    'Attrited Customer' : 1.0}}])\n",
    "\n",
    "    pandas_df = dataframe.toPandas()\n",
    "    pandas_df = ordinal_encoder.fit_transform(pandas_df)\n",
    "    df_encoded = spark.createDataFrame(pandas_df)\n",
    "    return df_encoded"
   ]
  },
  {
   "cell_type": "code",
   "execution_count": 6,
   "id": "a2c8ca10",
   "metadata": {},
   "outputs": [],
   "source": [
    "class Preprocessor(object):\n",
    "\n",
    "    dataframe = property(lambda self: self.df_preprocessed)\n",
    "    \n",
    "    def __init__(self, dataframe):\n",
    "        self.df = dataframe\n",
    "        self.df_dropped = self.drop_columns()\n",
    "        self.df_na = self.count_missing_values()\n",
    "        self.features = []\n",
    "        self.col_qual = []\n",
    "        self.df_quant = None\n",
    "        self.df_encoded = self.encode_nominal_feat()\n",
    "        self.df_preprocessed = self.assemble_and_scale(keep_cols = 'sì')\n",
    "        \n",
    "        \n",
    "    def drop_columns(self):\n",
    "        return self.df.drop('CLIENTNUM','Naive_Bayes_Classifier_Attrition_Flag_Card_Category_Contacts_Count_12_mon_Dependent_count_Education_Level_Months_Inactive_12_mon_1','Naive_Bayes_Classifier_Attrition_Flag_Card_Category_Contacts_Count_12_mon_Dependent_count_Education_Level_Months_Inactive_12_mon_2')\n",
    "    \n",
    "    def count_missing_values(self):\n",
    "        return self.df_dropped.select([count(when(col(c).contains('None') | col(c).contains('NULL') | (col(c) == '' ) | col(c).isNull() | isnan(c), c)).alias(c)\n",
    "                    for c in self.df_dropped.columns])\n",
    "    \n",
    "    def find_missing_values(self):\n",
    "        dict_na = self.df_na.collect()[0].asDict()\n",
    "        if len(set(dict_na.values())) == 1 and list(set(dict_na.values()))[0] == 0:\n",
    "            print('there are no missing values')\n",
    "        else:\n",
    "            print('there are some missing values, check further:')\n",
    "            self.df_na.show()\n",
    "    \n",
    "    def show_summary(self):\n",
    "        self.col_qual = [c for c in self.df_dropped.columns if dict(self.df_dropped.dtypes)[c] == 'string']\n",
    "        self.df_quant = self.df_dropped.drop(*self.col_qual)\n",
    "        for c in self.col_qual:\n",
    "            self.df_dropped.groupBy(c).count().sort(col('count').desc()).withColumn('percentage', F.round((F.col('count') / self.df_dropped.count()) * 100, 2 )).show()\n",
    "        self.df_quant.describe().show()\n",
    "\n",
    "    def encode_nominal_feat(self):\n",
    "        ord_encoded = ordinal_encode(self.df_dropped)\n",
    "        indexer = StringIndexer(inputCols=('Gender','Marital_Status'), outputCols=('GenderNDX','Marital_StatusNDX'))\n",
    "        indexed = indexer.fit(ord_encoded).transform(ord_encoded)\n",
    "        encoder = OneHotEncoder(inputCols=('GenderNDX', 'Marital_StatusNDX'), outputCols=('GenderOHE', 'Marital_StatusOHE'))\n",
    "        encoded = encoder.fit(indexed).transform(indexed)\n",
    "        #encoded = encoded.drop('GenderNDX','Marital_StatusNDX')\n",
    "        return encoded\n",
    "\n",
    "    def assemble_and_scale(self, keep_cols = 'no'):\n",
    "        self.features = [x for x in self.df_encoded.columns]\n",
    "        for f in ['Attrition_Flag','Gender','Marital_Status','GenderNDX','Marital_StatusNDX']:\n",
    "            self.features.remove(f)\n",
    "        \n",
    "        assembler = VectorAssembler(inputCols=self.features, outputCol=\"Xs\")\n",
    "        assembled = assembler.transform(self.df_encoded)\n",
    "        scaler = MinMaxScaler(inputCol=\"Xs\", outputCol=\"scaled_features\")\n",
    "        scaler_fitting = scaler.fit(assembled)\n",
    "        scaled = scaler_fitting.transform(assembled)\n",
    "        if keep_cols in ['yes','si', 'sì']:\n",
    "            return scaled\n",
    "        else:\n",
    "            return scaled.select('Xs','scaled_features','Attrition_Flag')"
   ]
  },
  {
   "cell_type": "code",
   "execution_count": 7,
   "id": "1ea72494",
   "metadata": {},
   "outputs": [],
   "source": [
    "class Graphics_maker(object):\n",
    "\n",
    "    def __init__(self, dataframe):\n",
    "        self.df = dataframe\n",
    "        self.pandas_df = dataframe.toPandas()\n",
    "        self.var_quant = self.get_var_quant()\n",
    "    \n",
    "    def get_var_quant(self):\n",
    "        col_quant = [c for c in self.df.columns if dict(self.df.dtypes)[c] in ' integer ' or dict(self.df.dtypes)[c] in ' double ']\n",
    "        col_quant = col_quant[1:]\n",
    "        return col_quant\n",
    "        \n",
    "    def make_histograms(self):\n",
    "        for c in self.var_quant:\n",
    "            hist = self.pandas_df.hist(column = c)\n",
    "    \n",
    "    def check_distribution(self, column_name = str):\n",
    "        stats.probplot(self.pandas_df[column_name], dist='norm', plot=plt)\n",
    "        plt.title('{} vs Normal Q-Q plot'.format(column_name))\n",
    "        plt.show()"
   ]
  },
  {
   "cell_type": "code",
   "execution_count": 8,
   "id": "cb7bd6ef",
   "metadata": {},
   "outputs": [],
   "source": [
    "class MyRandomForest(object):\n",
    "    \n",
    "    def __init__(self, features):\n",
    "        self.features = features\n",
    "        self.rf = RandomForestClassifier(maxDepth=10, numTrees=100, featuresCol='Xs', labelCol='Attrition_Flag')\n",
    "        self.strict_results = {}\n",
    "        self.model = None\n",
    "        self.predictions = None\n",
    "        self.test_y = []\n",
    "        self.pred_y = []\n",
    "\n",
    "\n",
    "    def fit(self, training_set):\n",
    "        self.model = self.rf.fit(training_set)\n",
    "        return self.model\n",
    "\n",
    "\n",
    "    def transform(self, test_set):\n",
    "        self.predictions = self.model.transform(test_set)\n",
    "        self.test_y = [row['Attrition_Flag'] for row in test_set.collect()]\n",
    "        self.pred_y = [row['prediction'] for row in self.predictions.collect()]\n",
    "        return self.predictions\n",
    "\n",
    "\n",
    "    def set_most_important_features(self):\n",
    "        self.strict_results['most_imp_xs'] = {self.features[k] : i for k, i in enumerate(self.model.featureImportances) if i >= 0.1}\n",
    "\n",
    "    \n",
    "    def classify_with_threshold(self, threshold = float):    \n",
    "        pred_strict = [0 if row['probability'][1] < threshold else 1 for row in self.predictions.collect()]\n",
    "        self.strict_results['conf_mat_{}_perc'.format(threshold)] = confusion_matrix(self.test_y, pred_strict)\n",
    "        self.strict_results['recall_{}_perc'.format(threshold)] = round(recall_score(y_pred = pred_strict, y_true = self.test_y), 2)\n",
    "        self.strict_results['precision_{}_perc'.format(threshold)] = round(precision_score(y_pred = pred_strict, y_true = self.test_y), 2)\n",
    "        tn, fp, fn, tp = confusion_matrix(self.test_y, pred_strict).ravel()\n",
    "        self.strict_results['false_positive_rate_{}_perc'.format(threshold)] = round(fp / (tn + fp), 2)\n",
    "        self.strict_results['auc_roc_{}_perc'.format(threshold)] = round(roc_auc_score(y_score = pred_strict, y_true = self.test_y), 2)\n",
    "        return self.strict_results\n",
    "        "
   ]
  },
  {
   "cell_type": "code",
   "execution_count": 9,
   "id": "781c1508",
   "metadata": {},
   "outputs": [],
   "source": [
    "class ExperimentHandler(object):\n",
    "    \n",
    "    def __init__(self, dataframe):\n",
    "        self.dataframe = dataframe\n",
    "        self.training_set = self.dataframe.sampleBy(\"Attrition_Flag\", fractions={0.0: 0.8, 1.0: 0.8}, seed=10)\n",
    "        self.test_set = self.dataframe.subtract(self.training_set)\n",
    "        \n",
    "        self.alias = {'random_forest': ('randomforest', 'random_forest', 'rf'), 'svm': ('svc', 'svm'),\n",
    "                      'logistic_regression': ('logistic_regression', 'log_reg'),\n",
    "                      'naive_bayes': ('naive_bayes','nb','naivebayes')}\n",
    "        \n",
    "        self.classifiers = dict()\n",
    "        self.results = dict()\n",
    "        \n",
    "    def add_classifier(self, name, classifier): #per inserire classificatori dall'esterno\n",
    "        name = name.lower()\n",
    "        for k, alias in self.alias.items():\n",
    "            if name in alias: name = k\n",
    "        self.classifiers[name] = classifier\n",
    "        \n",
    "        \n",
    "    def start_classifications(self):\n",
    "        for name, classifier in self.classifiers.items():\n",
    "            self.results[name] = self.classify(name, classifier)\n",
    "        return self.results\n",
    "\n",
    "\n",
    "    def classify(self, name, classifier): \n",
    "        output = {}\n",
    "        model = classifier.fit(self.training_set)\n",
    "        predictions = model.transform(self.test_set)\n",
    "        \n",
    "        evaluator = BinaryClassificationEvaluator(rawPredictionCol='prediction', labelCol='Attrition_Flag')\n",
    "        output['accuracy'] = round(evaluator.evaluate(predictions), 2)\n",
    "        test_y = [row['Attrition_Flag'] for row in self.test_set.collect()]\n",
    "        pred_y = [row['prediction'] for row in predictions.collect()]\n",
    "        \n",
    "        output['recall'] = round(recall_score(y_pred = pred_y, y_true = test_y), 2)\n",
    "        output['precision'] = round(precision_score(y_pred = pred_y, y_true = test_y), 2)\n",
    "        output['conf_mat'] = confusion_matrix(test_y, pred_y)\n",
    "\n",
    "        tn, fp, fn, tp = confusion_matrix(test_y, pred_y).ravel()\n",
    "        output['false_positive_rate'] = round(fp / (tn + fp), 2)\n",
    "        output['auc_roc'] = round(roc_auc_score(y_score = pred_y, y_true = test_y), 2)\n",
    "        return output"
   ]
  },
  {
   "cell_type": "code",
   "execution_count": 10,
   "id": "7b5c6a65",
   "metadata": {},
   "outputs": [],
   "source": [
    "class Clusterer(object):\n",
    "\n",
    "    def __init__(self, df):\n",
    "        self.df = df\n",
    "        self.best_clustering = {}\n",
    "        self.prediction_df = spark.createDataFrame([], StructType([])) #inizializza un df vuoto\n",
    "        self.summary = self.perform_cluster_analysis()\n",
    "\n",
    "\n",
    "    def perform_cluster_analysis(self):\n",
    "        evaluator = ClusteringEvaluator(featuresCol='scaled_features')\n",
    "        silhouettes = []\n",
    "        for c in range(2,6):\n",
    "            kmeans = KMeans(featuresCol='scaled_features', k=c)\n",
    "            model = kmeans.fit(self.df)\n",
    "            predictions = model.transform(self.df)\n",
    "            silhouette = evaluator.evaluate(predictions)\n",
    "            silhouettes.append(round(silhouette,5))\n",
    "        return silhouettes\n",
    "\n",
    "\n",
    "    def draw_elbow(self):\n",
    "        plt.plot(range(2,6), self.summary)\n",
    "\n",
    "\n",
    "    def take_best_clustering(self):\n",
    "        self.best_clustering['number of clusters'] = self.summary.index(max(self.summary)) +2\n",
    "        kmeans = KMeans(featuresCol='scaled_features', k=self.best_clustering['number of clusters'])\n",
    "        model = kmeans.fit(self.df)\n",
    "        self.prediction_df = model.transform(self.df)\n",
    "        self.best_clustering['centers'] = model.clusterCenters()\n",
    "        self.best_clustering['distribution'] = self.prediction_df.groupBy('prediction').count().sort(col('count').desc()).withColumn('percentage', F.round((F.col('count') / self.prediction_df.count()) * 100, 2 ))\n",
    "        attrition_flag = [row['Attrition_Flag'] for row in self.prediction_df.collect()]\n",
    "        preds = [row['prediction'] for row in self.prediction_df.collect()]\n",
    "        self.best_clustering['conf_mat churn vs clust'] = confusion_matrix(attrition_flag, preds)\n",
    "        if self.best_clustering['number of clusters'] == 2:\n",
    "            self.best_clustering['tn, fp, fn, tp'] = confusion_matrix(attrition_flag, preds).ravel()\n",
    "        return self.best_clustering\n",
    "    \n",
    "    def get_clustering_insights(self):\n",
    "        useless_feat = ('Xs', 'scaled_features', 'Attrition_Flag', 'prediction', 'GenderOHE', 'Marital_StatusOHE', 'Marital_StatusNDX')\n",
    "        quant_feat_list = [c for c in self.prediction_df.columns if c not in useless_feat\n",
    "                       and dict(self.prediction_df.dtypes)[c] != 'string']\n",
    "\n",
    "        qual_feat_list = [c for c in self.prediction_df.columns if c not in useless_feat\n",
    "                            and c not in quant_feat_list]\n",
    "        \n",
    "        for c in quant_feat_list:\n",
    "            df_summary = self.prediction_df.groupby('prediction').agg(F.count(c).alias('count'),\n",
    "            F.mean(c).alias('mean'),\n",
    "            F.stddev(c).alias('std'),\n",
    "            F.min(c).alias('min'),\n",
    "            F.expr('percentile({}, array(0.25))'.format(c))[0].alias('%25'),\n",
    "            F.expr('percentile({}, array(0.5))'.format(c))[0].alias('%50'),\n",
    "            F.expr('percentile({}, array(0.75))'.format(c))[0].alias('%75'),\n",
    "            F.max(c).alias('max'))\n",
    "            print(c)\n",
    "            df_summary.show(truncate = False)\n",
    "        \n",
    "        for c in qual_feat_list:\n",
    "            df_summary = self.prediction_df.groupby('prediction', c).count().sort(col('count').desc()).withColumn('percentage', F.round((F.col('count') / self.prediction_df.count()) * 100, 2 ))\n",
    "            print(c)\n",
    "            df_summary.show(truncate = False)"
   ]
  },
  {
   "cell_type": "markdown",
   "id": "18f82b73",
   "metadata": {},
   "source": [
    "CODE TO BE EXECUTED"
   ]
  },
  {
   "cell_type": "code",
   "execution_count": 11,
   "id": "6023d6cd",
   "metadata": {},
   "outputs": [],
   "source": [
    "df = Loader(\".\\data\") << \"BankChurners.csv\""
   ]
  },
  {
   "cell_type": "code",
   "execution_count": 12,
   "id": "20102927",
   "metadata": {},
   "outputs": [
    {
     "data": {
      "text/plain": [
       "[Row(CLIENTNUM=768805383, Attrition_Flag='Existing Customer', Customer_Age=45, Gender='M', Dependent_count=3, Education_Level='High School', Marital_Status='Married', Income_Category='$60K - $80K', Card_Category='Blue', Months_on_book=39, Total_Relationship_Count=5, Months_Inactive_12_mon=1, Contacts_Count_12_mon=3, Credit_Limit=12691.0, Total_Revolving_Bal=777, Avg_Open_To_Buy=11914.0, Total_Amt_Chng_Q4_Q1=1.335, Total_Trans_Amt=1144, Total_Trans_Ct=42, Total_Ct_Chng_Q4_Q1=1.625, Avg_Utilization_Ratio=0.061, Naive_Bayes_Classifier_Attrition_Flag_Card_Category_Contacts_Count_12_mon_Dependent_count_Education_Level_Months_Inactive_12_mon_1=9.3448e-05, Naive_Bayes_Classifier_Attrition_Flag_Card_Category_Contacts_Count_12_mon_Dependent_count_Education_Level_Months_Inactive_12_mon_2=0.99991),\n",
       " Row(CLIENTNUM=818770008, Attrition_Flag='Existing Customer', Customer_Age=49, Gender='F', Dependent_count=5, Education_Level='Graduate', Marital_Status='Single', Income_Category='Less than $40K', Card_Category='Blue', Months_on_book=44, Total_Relationship_Count=6, Months_Inactive_12_mon=1, Contacts_Count_12_mon=2, Credit_Limit=8256.0, Total_Revolving_Bal=864, Avg_Open_To_Buy=7392.0, Total_Amt_Chng_Q4_Q1=1.541, Total_Trans_Amt=1291, Total_Trans_Ct=33, Total_Ct_Chng_Q4_Q1=3.714, Avg_Utilization_Ratio=0.105, Naive_Bayes_Classifier_Attrition_Flag_Card_Category_Contacts_Count_12_mon_Dependent_count_Education_Level_Months_Inactive_12_mon_1=5.6861e-05, Naive_Bayes_Classifier_Attrition_Flag_Card_Category_Contacts_Count_12_mon_Dependent_count_Education_Level_Months_Inactive_12_mon_2=0.99994)]"
      ]
     },
     "execution_count": 12,
     "metadata": {},
     "output_type": "execute_result"
    }
   ],
   "source": [
    "df.head(2)"
   ]
  },
  {
   "cell_type": "code",
   "execution_count": 13,
   "id": "67b91cbc",
   "metadata": {},
   "outputs": [
    {
     "name": "stdout",
     "output_type": "stream",
     "text": [
      "+-----------------+-----+----------+\n",
      "|   Attrition_Flag|count|percentage|\n",
      "+-----------------+-----+----------+\n",
      "|Existing Customer| 8500|     83.93|\n",
      "|Attrited Customer| 1627|     16.07|\n",
      "+-----------------+-----+----------+\n",
      "\n",
      "+------+-----+----------+\n",
      "|Gender|count|percentage|\n",
      "+------+-----+----------+\n",
      "|     F| 5358|     52.91|\n",
      "|     M| 4769|     47.09|\n",
      "+------+-----+----------+\n",
      "\n",
      "+---------------+-----+----------+\n",
      "|Education_Level|count|percentage|\n",
      "+---------------+-----+----------+\n",
      "|       Graduate| 3128|     30.89|\n",
      "|    High School| 2013|     19.88|\n",
      "|        Unknown| 1519|      15.0|\n",
      "|     Uneducated| 1487|     14.68|\n",
      "|        College| 1013|      10.0|\n",
      "|  Post-Graduate|  516|       5.1|\n",
      "|      Doctorate|  451|      4.45|\n",
      "+---------------+-----+----------+\n",
      "\n",
      "+--------------+-----+----------+\n",
      "|Marital_Status|count|percentage|\n",
      "+--------------+-----+----------+\n",
      "|       Married| 4687|     46.28|\n",
      "|        Single| 3943|     38.94|\n",
      "|       Unknown|  749|       7.4|\n",
      "|      Divorced|  748|      7.39|\n",
      "+--------------+-----+----------+\n",
      "\n",
      "+---------------+-----+----------+\n",
      "|Income_Category|count|percentage|\n",
      "+---------------+-----+----------+\n",
      "| Less than $40K| 3561|     35.16|\n",
      "|    $40K - $60K| 1790|     17.68|\n",
      "|   $80K - $120K| 1535|     15.16|\n",
      "|    $60K - $80K| 1402|     13.84|\n",
      "|        Unknown| 1112|     10.98|\n",
      "|        $120K +|  727|      7.18|\n",
      "+---------------+-----+----------+\n",
      "\n",
      "+-------------+-----+----------+\n",
      "|Card_Category|count|percentage|\n",
      "+-------------+-----+----------+\n",
      "|         Blue| 9436|     93.18|\n",
      "|       Silver|  555|      5.48|\n",
      "|         Gold|  116|      1.15|\n",
      "|     Platinum|   20|       0.2|\n",
      "+-------------+-----+----------+\n",
      "\n",
      "+-------+-----------------+------------------+------------------+------------------------+----------------------+---------------------+-----------------+-------------------+-----------------+--------------------+-----------------+-----------------+-------------------+---------------------+\n",
      "|summary|     Customer_Age|   Dependent_count|    Months_on_book|Total_Relationship_Count|Months_Inactive_12_mon|Contacts_Count_12_mon|     Credit_Limit|Total_Revolving_Bal|  Avg_Open_To_Buy|Total_Amt_Chng_Q4_Q1|  Total_Trans_Amt|   Total_Trans_Ct|Total_Ct_Chng_Q4_Q1|Avg_Utilization_Ratio|\n",
      "+-------+-----------------+------------------+------------------+------------------------+----------------------+---------------------+-----------------+-------------------+-----------------+--------------------+-----------------+-----------------+-------------------+---------------------+\n",
      "|  count|            10127|             10127|             10127|                   10127|                 10127|                10127|            10127|              10127|            10127|               10127|            10127|            10127|              10127|                10127|\n",
      "|   mean|46.32596030413745|2.3462032191172115|35.928409203120374|      3.8125802310654686|    2.3411671768539546|   2.4553174681544387|8631.953698034848| 1162.8140614199665|7469.139636614887|  0.7599406536980376|4404.086303939963|64.85869457884863| 0.7122223758269962|   0.2748935518909845|\n",
      "| stddev|8.016814032549046|  1.29890834890379|  7.98641633087208|        1.55440786533883|    1.0106223994182844|   1.1062251426359249|9088.776650223148|  814.9873352357533|9090.685323679114|  0.2192067692307027|3397.129253557085|23.47257044923301|0.23808609133294137|  0.27569146925238736|\n",
      "|    min|               26|                 0|                13|                       1|                     0|                    0|           1438.3|                  0|              3.0|                 0.0|              510|               10|                0.0|                  0.0|\n",
      "|    max|               73|                 5|                56|                       6|                     6|                    6|          34516.0|               2517|          34516.0|               3.397|            18484|              139|              3.714|                0.999|\n",
      "+-------+-----------------+------------------+------------------+------------------------+----------------------+---------------------+-----------------+-------------------+-----------------+--------------------+-----------------+-----------------+-------------------+---------------------+\n",
      "\n"
     ]
    }
   ],
   "source": [
    "preprocess = Preprocessor(df)\n",
    "preprocess.show_summary()"
   ]
  },
  {
   "cell_type": "markdown",
   "id": "51d47bfa",
   "metadata": {},
   "source": [
    "commento a 'process.show_summary()':\n",
    "Income_Category, Card_Category, Education_Level sono variabili categoriche ORDINALI, mentre Marital_Status e Gender sono NOMINALI. Bisogna tenerlo in considerazione per la codifica migliore.\n",
    "\n",
    "le colonne 'Education_Level', 'Marital_Status' e 'Income_Category' presentano valori 'unknown' come gestirli? Consideriamo unknown una classe come le altre o potremmo classificare le osservazioni in base alle altre features con KNN o altri classificatori.\n",
    "\n",
    "per quanto riguarda la y (attrition yes or no) il ds è fortemente sbilanciato su no (positivo per la banca), dovremo tener in considerazione questa condizione nel momento di splittare il ds in train e test. Il genere è abbastanza bilanciato. Solo il 14% dei clienti non ha istruzione superiore ma per un 15% non abbiamo dati. Il 35% guadagna meno di 40k all'anno e solo il 7% più di 120k. La maggior parte dei clienti appartiene alla categoria base 'blue'.\n"
   ]
  },
  {
   "cell_type": "code",
   "execution_count": 14,
   "id": "2741f671",
   "metadata": {},
   "outputs": [],
   "source": [
    "df_dropped = preprocess.df_dropped"
   ]
  },
  {
   "cell_type": "code",
   "execution_count": 15,
   "id": "10fcb142",
   "metadata": {},
   "outputs": [
    {
     "data": {
      "text/plain": [
       "['Attrition_Flag',\n",
       " 'Customer_Age',\n",
       " 'Gender',\n",
       " 'Dependent_count',\n",
       " 'Education_Level',\n",
       " 'Marital_Status',\n",
       " 'Income_Category',\n",
       " 'Card_Category',\n",
       " 'Months_on_book',\n",
       " 'Total_Relationship_Count',\n",
       " 'Months_Inactive_12_mon',\n",
       " 'Contacts_Count_12_mon',\n",
       " 'Credit_Limit',\n",
       " 'Total_Revolving_Bal',\n",
       " 'Avg_Open_To_Buy',\n",
       " 'Total_Amt_Chng_Q4_Q1',\n",
       " 'Total_Trans_Amt',\n",
       " 'Total_Trans_Ct',\n",
       " 'Total_Ct_Chng_Q4_Q1',\n",
       " 'Avg_Utilization_Ratio']"
      ]
     },
     "execution_count": 15,
     "metadata": {},
     "output_type": "execute_result"
    }
   ],
   "source": [
    "df_dropped.columns"
   ]
  },
  {
   "cell_type": "code",
   "execution_count": 16,
   "id": "e4e38ae1",
   "metadata": {},
   "outputs": [
    {
     "data": {
      "image/png": "[encoded data removed]",
      "text/plain": [
       "<Figure size 432x288 with 1 Axes>"
      ]
     },
     "metadata": {
      "needs_background": "light"
     },
     "output_type": "display_data"
    },
    {
     "data": {
      "image/png": "[encoded data removed]",
      "text/plain": [
       "<Figure size 432x288 with 1 Axes>"
      ]
     },
     "metadata": {
      "needs_background": "light"
     },
     "output_type": "display_data"
    },
    {
     "data": {
      "image/png": "[encoded data removed]",
      "text/plain": [
       "<Figure size 432x288 with 1 Axes>"
      ]
     },
     "metadata": {
      "needs_background": "light"
     },
     "output_type": "display_data"
    },
    {
     "data": {
      "image/png": "[encoded data removed]",
      "text/plain": [
       "<Figure size 432x288 with 1 Axes>"
      ]
     },
     "metadata": {
      "needs_background": "light"
     },
     "output_type": "display_data"
    },
    {
     "data": {
      "image/png": "[encoded data removed]",
      "text/plain": [
       "<Figure size 432x288 with 1 Axes>"
      ]
     },
     "metadata": {
      "needs_background": "light"
     },
     "output_type": "display_data"
    },
    {
     "data": {
      "image/png": "[encoded data removed]",
      "text/plain": [
       "<Figure size 432x288 with 1 Axes>"
      ]
     },
     "metadata": {
      "needs_background": "light"
     },
     "output_type": "display_data"
    },
    {
     "data": {
      "image/png": "[encoded data removed]",
      "text/plain": [
       "<Figure size 432x288 with 1 Axes>"
      ]
     },
     "metadata": {
      "needs_background": "light"
     },
     "output_type": "display_data"
    },
    {
     "data": {
      "image/png": "[encoded data removed]",
      "text/plain": [
       "<Figure size 432x288 with 1 Axes>"
      ]
     },
     "metadata": {
      "needs_background": "light"
     },
     "output_type": "display_data"
    },
    {
     "data": {
      "image/png": "[encoded data removed]",
      "text/plain": [
       "<Figure size 432x288 with 1 Axes>"
      ]
     },
     "metadata": {
      "needs_background": "light"
     },
     "output_type": "display_data"
    },
    {
     "data": {
      "image/png": "[encoded data removed]",
      "text/plain": [
       "<Figure size 432x288 with 1 Axes>"
      ]
     },
     "metadata": {
      "needs_background": "light"
     },
     "output_type": "display_data"
    },
    {
     "data": {
      "image/png": "[encoded data removed]",
      "text/plain": [
       "<Figure size 432x288 with 1 Axes>"
      ]
     },
     "metadata": {
      "needs_background": "light"
     },
     "output_type": "display_data"
    },
    {
     "data": {
      "image/png": "[encoded data removed]",
      "text/plain": [
       "<Figure size 432x288 with 1 Axes>"
      ]
     },
     "metadata": {
      "needs_background": "light"
     },
     "output_type": "display_data"
    },
    {
     "data": {
      "image/png": "[encoded data removed]",
      "text/plain": [
       "<Figure size 432x288 with 1 Axes>"
      ]
     },
     "metadata": {
      "needs_background": "light"
     },
     "output_type": "display_data"
    }
   ],
   "source": [
    "graph = Graphics_maker(df_dropped)\n",
    "graph.make_histograms()"
   ]
  },
  {
   "cell_type": "code",
   "execution_count": 17,
   "id": "1cdb04d6",
   "metadata": {
    "scrolled": true
   },
   "outputs": [
    {
     "data": {
      "text/plain": [
       "['Dependent_count',\n",
       " 'Months_on_book',\n",
       " 'Total_Relationship_Count',\n",
       " 'Months_Inactive_12_mon',\n",
       " 'Contacts_Count_12_mon',\n",
       " 'Credit_Limit',\n",
       " 'Total_Revolving_Bal',\n",
       " 'Avg_Open_To_Buy',\n",
       " 'Total_Amt_Chng_Q4_Q1',\n",
       " 'Total_Trans_Amt',\n",
       " 'Total_Trans_Ct',\n",
       " 'Total_Ct_Chng_Q4_Q1',\n",
       " 'Avg_Utilization_Ratio']"
      ]
     },
     "execution_count": 17,
     "metadata": {},
     "output_type": "execute_result"
    }
   ],
   "source": [
    "graph.var_quant"
   ]
  },
  {
   "cell_type": "code",
   "execution_count": 18,
   "id": "711710d4",
   "metadata": {},
   "outputs": [
    {
     "data": {
      "image/png": "[encoded data removed]",
      "text/plain": [
       "<Figure size 432x288 with 1 Axes>"
      ]
     },
     "metadata": {
      "needs_background": "light"
     },
     "output_type": "display_data"
    }
   ],
   "source": [
    "graph.check_distribution('Customer_Age')"
   ]
  },
  {
   "cell_type": "code",
   "execution_count": 19,
   "id": "b109e21f",
   "metadata": {},
   "outputs": [
    {
     "data": {
      "image/png": "[encoded data removed]",
      "text/plain": [
       "<Figure size 432x288 with 1 Axes>"
      ]
     },
     "metadata": {
      "needs_background": "light"
     },
     "output_type": "display_data"
    }
   ],
   "source": [
    "graph.check_distribution('Total_Trans_Ct')"
   ]
  },
  {
   "cell_type": "markdown",
   "id": "12af88c8",
   "metadata": {},
   "source": [
    "Solo la distribuzione di frequenza della var Customer_Age sembra avvicinarsi a una normale, Months_on_book ha elevata curtosi,\n",
    "Credit_limit ha la coda di destra lunga = sbilanciata a sinistra media > mediana, ma i valori ampi sono comunque plausibili, Avg_Open_To_Buy sembra essere molto correlata a Credit_Limit.\n",
    "Total_Trans_Amt è molto sbilanciata a sinistra ma presenta tre campane.\n",
    "Customer_Age è distribuita come una normale nei valori centrali, ma non è approssimata bene nelle code"
   ]
  },
  {
   "cell_type": "code",
   "execution_count": 20,
   "id": "74b1a96b",
   "metadata": {},
   "outputs": [
    {
     "name": "stdout",
     "output_type": "stream",
     "text": [
      "+--------------+------------+------+---------------+---------------+--------------+---------------+-------------+--------------+------------------------+----------------------+---------------------+------------+-------------------+---------------+--------------------+---------------+--------------+-------------------+---------------------+---------+-----------------+-------------+-----------------+\n",
      "|Attrition_Flag|Customer_Age|Gender|Dependent_count|Education_Level|Marital_Status|Income_Category|Card_Category|Months_on_book|Total_Relationship_Count|Months_Inactive_12_mon|Contacts_Count_12_mon|Credit_Limit|Total_Revolving_Bal|Avg_Open_To_Buy|Total_Amt_Chng_Q4_Q1|Total_Trans_Amt|Total_Trans_Ct|Total_Ct_Chng_Q4_Q1|Avg_Utilization_Ratio|GenderNDX|Marital_StatusNDX|    GenderOHE|Marital_StatusOHE|\n",
      "+--------------+------------+------+---------------+---------------+--------------+---------------+-------------+--------------+------------------------+----------------------+---------------------+------------+-------------------+---------------+--------------------+---------------+--------------+-------------------+---------------------+---------+-----------------+-------------+-----------------+\n",
      "|             0|          45|     M|              3|              2|       Married|              3|            0|            39|                       5|                     1|                    3|     12691.0|                777|        11914.0|               1.335|           1144|            42|              1.625|                0.061|      1.0|              0.0|    (1,[],[])|    (3,[0],[1.0])|\n",
      "|             0|          49|     F|              5|              4|        Single|              1|            0|            44|                       6|                     1|                    2|      8256.0|                864|         7392.0|               1.541|           1291|            33|              3.714|                0.105|      0.0|              1.0|(1,[0],[1.0])|    (3,[1],[1.0])|\n",
      "+--------------+------------+------+---------------+---------------+--------------+---------------+-------------+--------------+------------------------+----------------------+---------------------+------------+-------------------+---------------+--------------------+---------------+--------------+-------------------+---------------------+---------+-----------------+-------------+-----------------+\n",
      "only showing top 2 rows\n",
      "\n"
     ]
    }
   ],
   "source": [
    "encoded = preprocess.df_encoded\n",
    "encoded.show(2)"
   ]
  },
  {
   "cell_type": "code",
   "execution_count": 21,
   "id": "e4f6bb33",
   "metadata": {},
   "outputs": [],
   "source": [
    "assembled = preprocess.dataframe"
   ]
  },
  {
   "cell_type": "markdown",
   "id": "38bbd997",
   "metadata": {},
   "source": [
    "dataframe keeps the columns that have been assembled, this will result useful later, for the interpretation of cluster analysis."
   ]
  },
  {
   "cell_type": "code",
   "execution_count": 22,
   "id": "99e8036f",
   "metadata": {},
   "outputs": [
    {
     "name": "stdout",
     "output_type": "stream",
     "text": [
      "+--------------+------------+------+---------------+---------------+--------------+---------------+-------------+--------------+------------------------+----------------------+---------------------+------------+-------------------+---------------+--------------------+---------------+--------------+-------------------+---------------------+---------+-----------------+-------------+-----------------+-----------------------------------------------------------------------------------------------------------+----------------------------------------------------------------------------------------------------------------------------------------------------------------------------------------------------------------------------------------------------------------------------------------------------------------+\n",
      "|Attrition_Flag|Customer_Age|Gender|Dependent_count|Education_Level|Marital_Status|Income_Category|Card_Category|Months_on_book|Total_Relationship_Count|Months_Inactive_12_mon|Contacts_Count_12_mon|Credit_Limit|Total_Revolving_Bal|Avg_Open_To_Buy|Total_Amt_Chng_Q4_Q1|Total_Trans_Amt|Total_Trans_Ct|Total_Ct_Chng_Q4_Q1|Avg_Utilization_Ratio|GenderNDX|Marital_StatusNDX|GenderOHE    |Marital_StatusOHE|Xs                                                                                                         |scaled_features                                                                                                                                                                                                                                                                                                 |\n",
      "+--------------+------------+------+---------------+---------------+--------------+---------------+-------------+--------------+------------------------+----------------------+---------------------+------------+-------------------+---------------+--------------------+---------------+--------------+-------------------+---------------------+---------+-----------------+-------------+-----------------+-----------------------------------------------------------------------------------------------------------+----------------------------------------------------------------------------------------------------------------------------------------------------------------------------------------------------------------------------------------------------------------------------------------------------------------+\n",
      "|0             |45          |M     |3              |2              |Married       |3              |0            |39            |5                       |1                     |3                    |12691.0     |777                |11914.0        |1.335               |1144           |42            |1.625              |0.061                |1.0      |0.0              |(1,[],[])    |(3,[0],[1.0])    |[45.0,3.0,2.0,3.0,0.0,39.0,5.0,1.0,3.0,12691.0,777.0,11914.0,1.335,1144.0,42.0,1.625,0.061,0.0,1.0,0.0,0.0]|[0.40425531914893614,0.6000000000000001,0.3333333333333333,0.6000000000000001,0.0,0.6046511627906976,0.8,0.16666666666666666,0.5,0.3401899164694039,0.30870083432657924,0.3451163329759801,0.39299381807477185,0.03527317236007566,0.24806201550387597,0.43753365643511044,0.061061061061061066,0.0,1.0,0.0,0.0]|\n",
      "|0             |49          |F     |5              |4              |Single        |1              |0            |44            |6                       |1                     |2                    |8256.0      |864                |7392.0         |1.541               |1291           |33            |3.714              |0.105                |0.0      |1.0              |(1,[0],[1.0])|(3,[1],[1.0])    |[49.0,5.0,4.0,1.0,0.0,44.0,6.0,1.0,2.0,8256.0,864.0,7392.0,1.541,1291.0,33.0,3.714,0.105,1.0,0.0,1.0,0.0]  |[0.48936170212765956,1.0,0.6666666666666666,0.2,0.0,0.7209302325581395,1.0,0.16666666666666666,0.3333333333333333,0.2061116704002999,0.3432657926102503,0.21409324022831977,0.4536355607889314,0.043451652386780906,0.17829457364341084,1.0,0.10510510510510511,1.0,0.0,1.0,0.0]                                |\n",
      "+--------------+------------+------+---------------+---------------+--------------+---------------+-------------+--------------+------------------------+----------------------+---------------------+------------+-------------------+---------------+--------------------+---------------+--------------+-------------------+---------------------+---------+-----------------+-------------+-----------------+-----------------------------------------------------------------------------------------------------------+----------------------------------------------------------------------------------------------------------------------------------------------------------------------------------------------------------------------------------------------------------------------------------------------------------------+\n",
      "only showing top 2 rows\n",
      "\n"
     ]
    }
   ],
   "source": [
    "assembled.show(2, truncate = False)"
   ]
  },
  {
   "cell_type": "code",
   "execution_count": 23,
   "id": "727ec932",
   "metadata": {},
   "outputs": [],
   "source": [
    "feat_list = preprocess.features"
   ]
  },
  {
   "cell_type": "code",
   "execution_count": 24,
   "id": "dc29ce22",
   "metadata": {
    "scrolled": true
   },
   "outputs": [
    {
     "data": {
      "text/plain": [
       "['Customer_Age',\n",
       " 'Dependent_count',\n",
       " 'Education_Level',\n",
       " 'Income_Category',\n",
       " 'Card_Category',\n",
       " 'Months_on_book',\n",
       " 'Total_Relationship_Count',\n",
       " 'Months_Inactive_12_mon',\n",
       " 'Contacts_Count_12_mon',\n",
       " 'Credit_Limit',\n",
       " 'Total_Revolving_Bal',\n",
       " 'Avg_Open_To_Buy',\n",
       " 'Total_Amt_Chng_Q4_Q1',\n",
       " 'Total_Trans_Amt',\n",
       " 'Total_Trans_Ct',\n",
       " 'Total_Ct_Chng_Q4_Q1',\n",
       " 'Avg_Utilization_Ratio',\n",
       " 'GenderOHE',\n",
       " 'Marital_StatusOHE']"
      ]
     },
     "execution_count": 24,
     "metadata": {},
     "output_type": "execute_result"
    }
   ],
   "source": [
    "feat_list"
   ]
  },
  {
   "cell_type": "markdown",
   "id": "c0af3492",
   "metadata": {},
   "source": [
    "to create the list of features names will be useful later to know which are the most informative features from Random Forest"
   ]
  },
  {
   "cell_type": "code",
   "execution_count": 25,
   "id": "0608ef07",
   "metadata": {},
   "outputs": [],
   "source": [
    "exp_handler = ExperimentHandler(assembled)"
   ]
  },
  {
   "cell_type": "code",
   "execution_count": 26,
   "id": "c213ac0c",
   "metadata": {},
   "outputs": [],
   "source": [
    "exp_handler.add_classifier(name='rf', classifier=MyRandomForest(feat_list))"
   ]
  },
  {
   "cell_type": "code",
   "execution_count": 27,
   "id": "d81b9b5f",
   "metadata": {},
   "outputs": [],
   "source": [
    "exp_handler.add_classifier(name='svm', classifier=LinearSVC(maxIter=100, featuresCol=\"scaled_features\", labelCol=\"Attrition_Flag\", regParam=0.0, threshold=-1.1))\n",
    "#regParam se > 0, tipo 0.1 allora introduciamo penalty"
   ]
  },
  {
   "cell_type": "code",
   "execution_count": 28,
   "id": "4462d675",
   "metadata": {},
   "outputs": [],
   "source": [
    "exp_handler.add_classifier(name='Log_reg', classifier=LogisticRegression(featuresCol=\"scaled_features\", labelCol='Attrition_Flag', threshold=0.25))"
   ]
  },
  {
   "cell_type": "code",
   "execution_count": 29,
   "id": "41edf7d9",
   "metadata": {},
   "outputs": [],
   "source": [
    "exp_handler.add_classifier(name='Naive_bayes', classifier=NaiveBayes(featuresCol='Xs', labelCol='Attrition_Flag', thresholds= [0.75, 0.25]))"
   ]
  },
  {
   "cell_type": "code",
   "execution_count": 30,
   "id": "856d8d7e",
   "metadata": {},
   "outputs": [
    {
     "data": {
      "text/plain": [
       "{'random_forest': <__main__.MyRandomForest at 0x1f40b6af100>,\n",
       " 'svm': LinearSVC_e0fa74bca960,\n",
       " 'logistic_regression': LogisticRegression_c51b728cb292,\n",
       " 'naive_bayes': NaiveBayes_1cd0e170cc2c}"
      ]
     },
     "execution_count": 30,
     "metadata": {},
     "output_type": "execute_result"
    }
   ],
   "source": [
    "exp_handler.classifiers"
   ]
  },
  {
   "cell_type": "code",
   "execution_count": 31,
   "id": "c082f195",
   "metadata": {
    "scrolled": true
   },
   "outputs": [],
   "source": [
    "results = exp_handler.start_classifications()"
   ]
  },
  {
   "cell_type": "code",
   "execution_count": 32,
   "id": "85786e9e",
   "metadata": {},
   "outputs": [
    {
     "name": "stdout",
     "output_type": "stream",
     "text": [
      "random_forest {'accuracy': 0.9, 'recall': 0.82, 'precision': 0.9, 'conf_mat': array([[1709,   28],\n",
      "       [  57,  262]], dtype=int64), 'false_positive_rate': 0.02, 'auc_roc': 0.9}\n",
      "svm {'accuracy': 0.85, 'recall': 0.87, 'precision': 0.48, 'conf_mat': array([[1440,  297],\n",
      "       [  40,  279]], dtype=int64), 'false_positive_rate': 0.17, 'auc_roc': 0.85}\n",
      "logistic_regression {'accuracy': 0.85, 'recall': 0.81, 'precision': 0.56, 'conf_mat': array([[1539,  198],\n",
      "       [  62,  257]], dtype=int64), 'false_positive_rate': 0.11, 'auc_roc': 0.85}\n",
      "naive_bayes {'accuracy': 0.55, 'recall': 0.42, 'precision': 0.2, 'conf_mat': array([[1192,  545],\n",
      "       [ 186,  133]], dtype=int64), 'false_positive_rate': 0.31, 'auc_roc': 0.55}\n"
     ]
    }
   ],
   "source": [
    "for name, summary in results.items():\n",
    "    print(name, summary)"
   ]
  },
  {
   "cell_type": "markdown",
   "id": "3a79a8c1",
   "metadata": {},
   "source": [
    "How to correctly read confusion matrix: the rows are the reality, row 1 = 0 and row 2 = 1, the columns are the predictions"
   ]
  },
  {
   "cell_type": "code",
   "execution_count": 40,
   "id": "b2c77856",
   "metadata": {},
   "outputs": [],
   "source": [
    "my_rf = exp_handler.classifiers['random_forest']"
   ]
  },
  {
   "cell_type": "code",
   "execution_count": 41,
   "id": "6fe63078",
   "metadata": {},
   "outputs": [
    {
     "data": {
      "text/plain": [
       "RandomForestClassificationModel: uid=RandomForestClassifier_88aba430e1b2, numTrees=100, numClasses=2, numFeatures=21"
      ]
     },
     "execution_count": 41,
     "metadata": {},
     "output_type": "execute_result"
    }
   ],
   "source": [
    "my_rf.fit(exp_handler.training_set)"
   ]
  },
  {
   "cell_type": "code",
   "execution_count": 42,
   "id": "64564cc8",
   "metadata": {},
   "outputs": [],
   "source": [
    "my_rf.set_most_important_features()"
   ]
  },
  {
   "cell_type": "code",
   "execution_count": 43,
   "id": "12014d11",
   "metadata": {},
   "outputs": [
    {
     "data": {
      "text/plain": [
       "DataFrame[Attrition_Flag: bigint, Customer_Age: bigint, Gender: string, Dependent_count: bigint, Education_Level: bigint, Marital_Status: string, Income_Category: bigint, Card_Category: bigint, Months_on_book: bigint, Total_Relationship_Count: bigint, Months_Inactive_12_mon: bigint, Contacts_Count_12_mon: bigint, Credit_Limit: double, Total_Revolving_Bal: bigint, Avg_Open_To_Buy: double, Total_Amt_Chng_Q4_Q1: double, Total_Trans_Amt: bigint, Total_Trans_Ct: bigint, Total_Ct_Chng_Q4_Q1: double, Avg_Utilization_Ratio: double, GenderNDX: double, Marital_StatusNDX: double, GenderOHE: vector, Marital_StatusOHE: vector, Xs: vector, scaled_features: vector, rawPrediction: vector, probability: vector, prediction: double]"
      ]
     },
     "execution_count": 43,
     "metadata": {},
     "output_type": "execute_result"
    }
   ],
   "source": [
    "my_rf.transform(exp_handler.test_set)"
   ]
  },
  {
   "cell_type": "code",
   "execution_count": 44,
   "id": "9ffc3044",
   "metadata": {},
   "outputs": [
    {
     "data": {
      "text/plain": [
       "{'most_imp_xs': {'Total_Revolving_Bal': 0.11794627811664221,\n",
       "  'Total_Trans_Amt': 0.17659357201499737,\n",
       "  'Total_Trans_Ct': 0.1972125105448072,\n",
       "  'Total_Ct_Chng_Q4_Q1': 0.1068156148600973},\n",
       " 'conf_mat_0.25_perc': array([[1650,   87],\n",
       "        [  15,  304]], dtype=int64),\n",
       " 'recall_0.25_perc': 0.95,\n",
       " 'precision_0.25_perc': 0.78,\n",
       " 'false_positive_rate_0.25_perc': 0.05,\n",
       " 'auc_roc_0.25_perc': 0.95}"
      ]
     },
     "execution_count": 44,
     "metadata": {},
     "output_type": "execute_result"
    }
   ],
   "source": [
    "my_rf_results = my_rf.classify_with_threshold(0.25)\n",
    "my_rf_results"
   ]
  },
  {
   "cell_type": "code",
   "execution_count": 44,
   "id": "c4f57fe9",
   "metadata": {},
   "outputs": [],
   "source": [
    "cl = Clusterer(assembled)"
   ]
  },
  {
   "cell_type": "code",
   "execution_count": 45,
   "id": "e7e0043a",
   "metadata": {},
   "outputs": [
    {
     "data": {
      "text/plain": [
       "[0.36034, 0.3621, 0.36938, 0.40732]"
      ]
     },
     "execution_count": 45,
     "metadata": {},
     "output_type": "execute_result"
    }
   ],
   "source": [
    "cl.summary"
   ]
  },
  {
   "cell_type": "code",
   "execution_count": 46,
   "id": "fc7e3ae7",
   "metadata": {},
   "outputs": [
    {
     "data": {
      "image/png": "[encoded data removed]",
      "text/plain": [
       "<Figure size 432x288 with 1 Axes>"
      ]
     },
     "metadata": {
      "needs_background": "light"
     },
     "output_type": "display_data"
    }
   ],
   "source": [
    "cl.draw_elbow()"
   ]
  },
  {
   "cell_type": "code",
   "execution_count": 124,
   "id": "4830ace0",
   "metadata": {},
   "outputs": [],
   "source": [
    "cl_results = cl.take_best_clustering()"
   ]
  },
  {
   "cell_type": "code",
   "execution_count": 125,
   "id": "7daa11c0",
   "metadata": {
    "scrolled": true
   },
   "outputs": [
    {
     "data": {
      "text/plain": [
       "{'number of clusters': 2,\n",
       " 'centers': [array([0.44117046, 0.47326648, 0.43794894, 0.42470664, 0.02197568,\n",
       "         0.53986038, 0.56820994, 0.3889126 , 0.40953702, 0.20068995,\n",
       "         0.47563117, 0.19924371, 0.22735117, 0.20381762, 0.40097218,\n",
       "         0.19270881, 0.28993961, 0.52293578, 1.        , 0.        ,\n",
       "         0.        ]),\n",
       "  array([0.42496871, 0.46577206, 0.42996324, 0.410625  , 0.03296569,\n",
       "         0.52749658, 0.55761029, 0.39129902, 0.40894608, 0.23194123,\n",
       "         0.45022611, 0.23104811, 0.22057162, 0.22770812, 0.44618816,\n",
       "         0.19095543, 0.26244241, 0.534375  , 0.        , 0.72481618,\n",
       "         0.13768382])],\n",
       " 'distribution': DataFrame[prediction: int, count: bigint, percentage: double],\n",
       " 'conf_mat churn vs clust': array([[3978, 4522],\n",
       "        [ 709,  918]], dtype=int64),\n",
       " 'tn, fp, fn, tp': array([3978, 4522,  709,  918], dtype=int64)}"
      ]
     },
     "execution_count": 125,
     "metadata": {},
     "output_type": "execute_result"
    }
   ],
   "source": [
    "cl_results"
   ]
  },
  {
   "cell_type": "code",
   "execution_count": 126,
   "id": "158e1a60",
   "metadata": {
    "scrolled": true
   },
   "outputs": [
    {
     "name": "stdout",
     "output_type": "stream",
     "text": [
      "+----------+-----+----------+\n",
      "|prediction|count|percentage|\n",
      "+----------+-----+----------+\n",
      "|         1| 5440|     53.72|\n",
      "|         0| 4687|     46.28|\n",
      "+----------+-----+----------+\n",
      "\n"
     ]
    }
   ],
   "source": [
    "cl_results['distribution'].show()"
   ]
  },
  {
   "cell_type": "code",
   "execution_count": 127,
   "id": "9f282334",
   "metadata": {},
   "outputs": [
    {
     "name": "stdout",
     "output_type": "stream",
     "text": [
      "Customer_Age\n",
      "+----------+-----+-----------------+-----------------+---+----+----+----+---+\n",
      "|prediction|count|mean             |std              |min|%25 |%50 |%75 |max|\n",
      "+----------+-----+-----------------+-----------------+---+----+----+----+---+\n",
      "|1         |5440 |45.97352941176471|8.220331704080673|26 |40.0|46.0|52.0|65 |\n",
      "|0         |4687 |46.73501173458502|7.754734824679689|26 |41.0|47.0|52.0|73 |\n",
      "+----------+-----+-----------------+-----------------+---+----+----+----+---+\n",
      "\n",
      "Dependent_count\n",
      "+----------+-----+------------------+------------------+---+---+---+---+---+\n",
      "|prediction|count|mean              |std               |min|%25|%50|%75|max|\n",
      "+----------+-----+------------------+------------------+---+---+---+---+---+\n",
      "|1         |5440 |2.3288602941176473|1.3087925137532461|0  |1.0|2.0|3.0|5  |\n",
      "|0         |4687 |2.366332408790271 |1.2871875310535295|0  |1.0|2.0|3.0|5  |\n",
      "+----------+-----+------------------+------------------+---+---+---+---+---+\n",
      "\n",
      "Education_Level\n",
      "+----------+-----+------------------+------------------+---+---+---+---+---+\n",
      "|prediction|count|mean              |std               |min|%25|%50|%75|max|\n",
      "+----------+-----+------------------+------------------+---+---+---+---+---+\n",
      "|1         |5440 |2.5797794117647057|1.7076973211623103|0  |1.0|2.0|4.0|6  |\n",
      "|0         |4687 |2.62769362065287  |1.6917442432970837|0  |1.0|3.0|4.0|6  |\n",
      "+----------+-----+------------------+------------------+---+---+---+---+---+\n",
      "\n",
      "Income_Category\n",
      "+----------+-----+------------------+-----------------+---+---+---+---+---+\n",
      "|prediction|count|mean              |std              |min|%25|%50|%75|max|\n",
      "+----------+-----+------------------+-----------------+---+---+---+---+---+\n",
      "|1         |5440 |2.053125          |1.466149698812192|0  |1.0|2.0|3.0|5  |\n",
      "|0         |4687 |2.1235331768721997|1.483690986623593|0  |1.0|2.0|3.0|5  |\n",
      "+----------+-----+------------------+-----------------+---+---+---+---+---+\n",
      "\n",
      "Card_Category\n",
      "+----------+-----+-------------------+-------------------+---+---+---+---+---+\n",
      "|prediction|count|mean               |std                |min|%25|%50|%75|max|\n",
      "+----------+-----+-------------------+-------------------+---+---+---+---+---+\n",
      "|1         |5440 |0.09889705882352941|0.3620114442654771 |0  |0.0|0.0|0.0|3  |\n",
      "|0         |4687 |0.0659270322167698 |0.29674164042475704|0  |0.0|0.0|0.0|3  |\n",
      "+----------+-----+-------------------+-------------------+---+---+---+---+---+\n",
      "\n",
      "Months_on_book\n",
      "+----------+-----+-----------------+-----------------+---+----+----+----+---+\n",
      "|prediction|count|mean             |std              |min|%25 |%50 |%75 |max|\n",
      "+----------+-----+-----------------+-----------------+---+----+----+----+---+\n",
      "|1         |5440 |35.68235294117647|8.157386232920086|13 |31.0|36.0|40.0|56 |\n",
      "|0         |4687 |36.21399615959036|7.774378751420322|13 |32.0|36.0|41.0|56 |\n",
      "+----------+-----+-----------------+-----------------+---+----+----+----+---+\n",
      "\n",
      "Total_Relationship_Count\n",
      "+----------+-----+------------------+------------------+---+---+---+---+---+\n",
      "|prediction|count|mean              |std               |min|%25|%50|%75|max|\n",
      "+----------+-----+------------------+------------------+---+---+---+---+---+\n",
      "|1         |5440 |3.7880514705882353|1.5670714923869717|1  |3.0|4.0|5.0|6  |\n",
      "|0         |4687 |3.841049711969277 |1.5392559933638428|1  |3.0|4.0|5.0|6  |\n",
      "+----------+-----+------------------+------------------+---+---+---+---+---+\n",
      "\n",
      "Months_Inactive_12_mon\n",
      "+----------+-----+------------------+------------------+---+---+---+---+---+\n",
      "|prediction|count|mean              |std               |min|%25|%50|%75|max|\n",
      "+----------+-----+------------------+------------------+---+---+---+---+---+\n",
      "|1         |5440 |2.3477941176470587|1.0002733152336685|0  |2.0|2.0|3.0|6  |\n",
      "|0         |4687 |2.3334755707275443|1.0225558685264928|0  |2.0|2.0|3.0|6  |\n",
      "+----------+-----+------------------+------------------+---+---+---+---+---+\n",
      "\n",
      "Contacts_Count_12_mon\n",
      "+----------+-----+------------------+------------------+---+---+---+---+---+\n",
      "|prediction|count|mean              |std               |min|%25|%50|%75|max|\n",
      "+----------+-----+------------------+------------------+---+---+---+---+---+\n",
      "|1         |5440 |2.4536764705882352|1.1077562107711123|0  |2.0|2.0|3.0|6  |\n",
      "|0         |4687 |2.4572221036910604|1.1045605449201863|0  |2.0|2.0|3.0|6  |\n",
      "+----------+-----+------------------+------------------+---+---+---+---+---+\n",
      "\n",
      "Credit_Limit\n",
      "+----------+-----+-----------------+-----------------+------+------+------+--------+-------+\n",
      "|prediction|count|mean             |std              |min   |%25   |%50   |%75     |max    |\n",
      "+----------+-----+-----------------+-----------------+------+------+------+--------+-------+\n",
      "|1         |5440 |9110.382500000002|9469.060449111075|1438.3|2571.0|4835.0|11842.75|34516.0|\n",
      "|0         |4687 |8076.661894602089|8594.071599663072|1438.3|2538.0|4234.0|9985.0  |34516.0|\n",
      "+----------+-----+-----------------+-----------------+------+------+------+--------+-------+\n",
      "\n",
      "Total_Revolving_Bal\n",
      "+----------+-----+------------------+-----------------+---+-----+------+------+----+\n",
      "|prediction|count|mean              |std              |min|%25  |%50   |%75   |max |\n",
      "+----------+-----+------------------+-----------------+---+-----+------+------+----+\n",
      "|1         |5440 |1133.2191176470587|817.9526824327814|0  |0.0  |1250.0|1752.0|2517|\n",
      "|0         |4687 |1197.1636441220396|810.2646621732578|0  |604.5|1308.0|1813.0|2517|\n",
      "+----------+-----+------------------+-----------------+---+-----+------+------+----+\n",
      "\n",
      "Avg_Open_To_Buy\n",
      "+----------+-----+-----------------+-----------------+----+------+------+--------+-------+\n",
      "|prediction|count|mean             |std              |min |%25   |%50   |%75     |max    |\n",
      "+----------+-----+-----------------+-----------------+----+------+------+--------+-------+\n",
      "|1         |5440 |7977.163382352944|9471.600481294678|3.0 |1408.0|3748.0|10815.25|34516.0|\n",
      "|0         |4687 |6879.49825048005 |8590.924198560293|14.0|1224.0|3198.0|8843.5  |34516.0|\n",
      "+----------+-----+-----------------+-----------------+----+------+------+--------+-------+\n",
      "\n",
      "Total_Amt_Chng_Q4_Q1\n",
      "+----------+-----+------------------+-------------------+---+------------------+------------------+-------+-----+\n",
      "|prediction|count|mean              |std                |min|%25               |%50               |%75    |max  |\n",
      "+----------+-----+------------------+-------------------+---+------------------+------------------+-------+-----+\n",
      "|1         |5440 |0.7492818014705878|0.193431007114664  |0.0|0.632             |0.7344999999999999|0.84825|3.397|\n",
      "|0         |4687 |0.7723119266055049|0.24519801154630472|0.0|0.6285000000000001|0.741             |0.872  |2.675|\n",
      "+----------+-----+------------------+-------------------+---+------------------+------------------+-------+-----+\n",
      "\n",
      "Total_Trans_Amt\n",
      "+----------+-----+-----------------+------------------+---+-------+------+------+-----+\n",
      "|prediction|count|mean             |std               |min|%25    |%50   |%75   |max  |\n",
      "+----------+-----+-----------------+------------------+---+-------+------+------+-----+\n",
      "|1         |5440 |4602.825735294117|3337.7696488070237|530|2493.75|4041.0|4791.0|17744|\n",
      "|0         |4687 |4173.417964582889|3450.782565287333 |510|1847.0 |3561.0|4681.5|18484|\n",
      "+----------+-----+-----------------+------------------+---+-------+------+------+-----+\n",
      "\n",
      "Total_Trans_Ct\n",
      "+----------+-----+------------------+------------------+---+----+----+----+---+\n",
      "|prediction|count|mean              |std               |min|%25 |%50 |%75 |max|\n",
      "+----------+-----+------------------+------------------+---+----+----+----+---+\n",
      "|1         |5440 |67.55827205882353 |21.991430277609602|10 |51.0|69.0|81.0|134|\n",
      "|0         |4687 |61.725410710475785|24.717575032547707|10 |40.0|63.0|79.0|139|\n",
      "+----------+-----+------------------+------------------+---+----+----+----+---+\n",
      "\n",
      "Total_Ct_Chng_Q4_Q1\n",
      "+----------+-----+------------------+-------------------+---+-------+-----+-----+-----+\n",
      "|prediction|count|mean              |std                |min|%25    |%50  |%75  |max  |\n",
      "+----------+-----+------------------+-------------------+---+-------+-----+-----+-----+\n",
      "|1         |5440 |0.7092084558823528|0.21874982651153974|0.0|0.58675|0.703|0.816|3.714|\n",
      "|0         |4687 |0.7157205035203758|0.25870304737684896|0.0|0.577  |0.7  |0.822|3.571|\n",
      "+----------+-----+------------------+-------------------+---+-------+-----+-----+-----+\n",
      "\n",
      "Avg_Utilization_Ratio\n"
     ]
    },
    {
     "name": "stdout",
     "output_type": "stream",
     "text": [
      "+----------+-----+------------------+------------------+---+-----+-----+-------+-----+\n",
      "|prediction|count|mean              |std               |min|%25  |%50  |%75    |max  |\n",
      "+----------+-----+------------------+------------------+---+-----+-----+-------+-----+\n",
      "|1         |5440 |0.2621799632352942|0.2726568823198362|0.0|0.0  |0.155|0.48125|0.999|\n",
      "|0         |4687 |0.2896496692980585|0.2784743727177793|0.0|0.034|0.199|0.523  |0.994|\n",
      "+----------+-----+------------------+------------------+---+-----+-----+-------+-----+\n",
      "\n",
      "GenderNDX\n",
      "+----------+-----+-------------------+------------------+---+---+---+---+---+\n",
      "|prediction|count|mean               |std               |min|%25|%50|%75|max|\n",
      "+----------+-----+-------------------+------------------+---+---+---+---+---+\n",
      "|1         |5440 |0.465625           |0.4988628132597098|0.0|0.0|0.0|1.0|1.0|\n",
      "|0         |4687 |0.47706422018348627|0.4995269643870582|0.0|0.0|0.0|1.0|1.0|\n",
      "+----------+-----+-------------------+------------------+---+---+---+---+---+\n",
      "\n",
      "Gender\n",
      "+----------+------+-----+----------+\n",
      "|prediction|Gender|count|percentage|\n",
      "+----------+------+-----+----------+\n",
      "|1         |F     |2907 |28.71     |\n",
      "|1         |M     |2533 |25.01     |\n",
      "|0         |F     |2451 |24.2      |\n",
      "|0         |M     |2236 |22.08     |\n",
      "+----------+------+-----+----------+\n",
      "\n",
      "Marital_Status\n",
      "+----------+--------------+-----+----------+\n",
      "|prediction|Marital_Status|count|percentage|\n",
      "+----------+--------------+-----+----------+\n",
      "|0         |Married       |4687 |46.28     |\n",
      "|1         |Single        |3943 |38.94     |\n",
      "|1         |Unknown       |749  |7.4       |\n",
      "|1         |Divorced      |748  |7.39      |\n",
      "+----------+--------------+-----+----------+\n",
      "\n"
     ]
    }
   ],
   "source": [
    "cl.get_clustering_insights()"
   ]
  },
  {
   "cell_type": "markdown",
   "id": "3cdf93e9",
   "metadata": {},
   "source": [
    "The cluster division separates the observation in two groups: do they coincide with the churners and not churners? No, the results from cluster analysis show that the confusion matrix between the response's category and the clusters is quite poor.\n",
    "Getting more stats about the two clusters is useful to understand which are their main features. To summarize them: cluster zero corresponds to merried people with a slightly lower 'card category', 'credit limit' and amount of transactions."
   ]
  }
 ],
 "metadata": {
  "kernelspec": {
   "display_name": "Python 3 (ipykernel)",
   "language": "python",
   "name": "python3"
  },
  "language_info": {
   "codemirror_mode": {
    "name": "ipython",
    "version": 3
   },
   "file_extension": ".py",
   "mimetype": "text/x-python",
   "name": "python",
   "nbconvert_exporter": "python",
   "pygments_lexer": "ipython3",
   "version": "3.9.7"
  }
 },
 "nbformat": 4,
 "nbformat_minor": 5
}
